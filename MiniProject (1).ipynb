{
  "nbformat": 4,
  "nbformat_minor": 0,
  "metadata": {
    "colab": {
      "provenance": []
    },
    "kernelspec": {
      "name": "python3",
      "display_name": "Python 3"
    },
    "language_info": {
      "name": "python"
    }
  },
  "cells": [
    {
      "cell_type": "code",
      "source": [
        "from google.colab import drive\n",
        "drive.mount('/content/drive')"
      ],
      "metadata": {
        "colab": {
          "base_uri": "https://localhost:8080/"
        },
        "id": "lTEAW4DwW6Zz",
        "outputId": "1d829e61-56c2-4d1c-ea39-8b8ccca470f0"
      },
      "execution_count": null,
      "outputs": [
        {
          "output_type": "stream",
          "name": "stdout",
          "text": [
            "Mounted at /content/drive\n"
          ]
        }
      ]
    },
    {
      "cell_type": "code",
      "source": [
        "!ls \"/content/drive/My Drive/dataset\""
      ],
      "metadata": {
        "colab": {
          "base_uri": "https://localhost:8080/"
        },
        "id": "V2bEIwXqbp4O",
        "outputId": "8b364c52-1926-45c0-9a16-5961cd3a52f1"
      },
      "execution_count": null,
      "outputs": [
        {
          "output_type": "stream",
          "name": "stdout",
          "text": [
            " cleaned_dataset.csv\t\t\t\t        kdd.csv\n",
            " cleaned_dataset_v2.csv\t\t\t\t        synthetic_network_anomaly_data.csv\n",
            " cleaned_merged_network_data.csv\t\t        synthetic_network_data.csv\n",
            " Friday-WorkingHours-Afternoon-DDos.pcap_ISCX.csv      'synthetic_network_data_large (1).csv'\n",
            " Friday-WorkingHours-Afternoon-PortScan.pcap_ISCX.csv   updated_network_data.csv\n",
            " Friday-WorkingHours-Morning.pcap_ISCX.csv\n"
          ]
        }
      ]
    },
    {
      "cell_type": "code",
      "execution_count": null,
      "metadata": {
        "colab": {
          "base_uri": "https://localhost:8080/"
        },
        "id": "2J3oDo2VWmEF",
        "outputId": "77c5f90d-d140-48ce-ba61-d892855b7a62"
      },
      "outputs": [
        {
          "output_type": "stream",
          "name": "stderr",
          "text": [
            "/usr/local/lib/python3.11/dist-packages/xgboost/core.py:158: UserWarning: [05:51:33] WARNING: /workspace/src/learner.cc:740: \n",
            "Parameters: { \"use_label_encoder\" } are not used.\n",
            "\n",
            "  warnings.warn(smsg, UserWarning)\n"
          ]
        }
      ],
      "source": [
        "import numpy as np\n",
        "import pandas as pd\n",
        "import seaborn as sns\n",
        "import matplotlib.pyplot as plt\n",
        "from xgboost import XGBClassifier\n",
        "from sklearn.ensemble import RandomForestClassifier, StackingClassifier\n",
        "from sklearn.linear_model import LogisticRegression\n",
        "from sklearn.model_selection import train_test_split\n",
        "from sklearn.preprocessing import StandardScaler\n",
        "from sklearn.metrics import accuracy_score, classification_report, confusion_matrix\n",
        "from imblearn.over_sampling import SMOTE\n",
        "\n",
        "# Load dataset\n",
        "dataset_path = \"/content/drive/My Drive/dataset/synthetic_network_data.csv\"\n",
        "df = pd.read_csv(dataset_path)\n",
        "df.columns = df.columns.str.strip()  # Clean column names\n",
        "\n",
        "# Convert 'Label' column to binary classification\n",
        "df['Label'] = df['Label'].apply(lambda x: 0 if x == 'BENIGN' else 1)\n",
        "\n",
        "# Features & Target\n",
        "X = df.drop(columns=['Label'])\n",
        "y = df['Label']\n",
        "\n",
        "# Scale features\n",
        "scaler = StandardScaler()\n",
        "X_scaled = scaler.fit_transform(X)\n",
        "\n",
        "# Train RandomForest to get feature importance\n",
        "rf_model = RandomForestClassifier(n_estimators=100, random_state=42)\n",
        "rf_model.fit(X_scaled, y)\n",
        "rf_importances = rf_model.feature_importances_\n",
        "\n",
        "# Train XGBoost to get feature importance\n",
        "xgb_model = XGBClassifier(use_label_encoder=False, eval_metric='logloss', random_state=42)\n",
        "xgb_model.fit(X_scaled, y)\n",
        "xgb_importances = xgb_model.feature_importances_\n",
        "\n",
        "# Select top 20 important features from both models\n",
        "rf_top_features = np.argsort(rf_importances)[-20:]\n",
        "xgb_top_features = np.argsort(xgb_importances)[-20:]\n",
        "selected_features = list(set(X.columns[rf_top_features]) & set(X.columns[xgb_top_features]))\n",
        "\n",
        "# Filter dataset with selected features\n",
        "X_selected = df[selected_features]\n",
        "\n",
        "# Apply SMOTE for class balancing\n",
        "smote = SMOTE(sampling_strategy='auto', random_state=42)\n",
        "X_resampled, y_resampled = smote.fit_resample(X_selected, y)\n",
        "\n",
        "# Split balanced dataset\n",
        "X_train, X_test, y_train, y_test = train_test_split(X_resampled, y_resampled, test_size=0.2, random_state=42)\n",
        "\n",
        "# Define the base models for stacking\n",
        "base_learners = [\n",
        "    ('rf', RandomForestClassifier(n_estimators=100, random_state=42)),\n",
        "    ('xgb', XGBClassifier(n_estimators=200, learning_rate=0.1, max_depth=6, subsample=0.8, colsample_bytree=0.8,\n",
        "                          scale_pos_weight=len(y_train) / sum(y_train), random_state=42)),\n",
        "]\n",
        "\n",
        "# Final estimator in stacking is Logistic Regression\n",
        "stacking_model = StackingClassifier(estimators=base_learners, final_estimator=LogisticRegression())\n",
        "\n",
        "# Train and evaluate the stacked model\n",
        "stacking_model.fit(X_train, y_train)\n",
        "y_pred = stacking_model.predict(X_test)\n",
        "\n",
        "\n"
      ]
    },
    {
      "cell_type": "code",
      "source": [
        "import pandas as pd\n",
        "import numpy as np\n",
        "from sklearn.metrics import classification_report, confusion_matrix\n",
        "\n",
        "# Mount Google Drive (if using Google Colab)\n",
        "\n",
        "\n",
        "# Load dataset\n",
        "dataset_path = \"/content/drive/My Drive/dataset/synthetic_network_data.csv\"\n",
        "data = pd.read_csv(dataset_path)\n",
        "data.columns = data.columns.str.strip()  # Remove spaces from column names\n",
        "\n",
        "# Extract the actual labels and convert them\n",
        "if 'Label' in data.columns:\n",
        "    actual_labels = data['Label'].apply(lambda x: \"Normal\" if x == \"BENIGN\" else \"Malicious\")\n",
        "else:\n",
        "    raise ValueError(\"Label column not found in dataset!\")\n",
        "\n",
        "# Drop the 'Label' column for prediction\n",
        "Z = data.drop(columns=['Label'], errors='ignore')\n",
        "\n",
        "# Ensure feature names match the trained model\n",
        "if hasattr(stacking_model, \"feature_names_in_\"):\n",
        "    missing_cols = set(stacking_model.feature_names_in_) - set(Z.columns)\n",
        "    extra_cols = set(Z.columns) - set(stacking_model.feature_names_in_)\n",
        "\n",
        "    # Add missing columns with default values (e.g., 0)\n",
        "    for col in missing_cols:\n",
        "        Z[col] = 0\n",
        "\n",
        "    # Keep only the columns the model was trained on, in the correct order\n",
        "    Z = Z[stacking_model.feature_names_in_]\n",
        "\n",
        "# Make predictions\n",
        "pred = stacking_model.predict(Z)\n",
        "\n",
        "# Convert numerical predictions to readable labels\n",
        "label_mapping = {0: \"Normal\", 1: \"Malicious\"}\n",
        "pred_labels = np.array([label_mapping[p] for p in pred])\n",
        "\n",
        "# Compare predictions with actual labels\n",
        "comparison_df = pd.DataFrame({\n",
        "    \"Actual Label\": actual_labels.values,\n",
        "    \"Predicted Label\": pred_labels\n",
        "})\n",
        "\n",
        "# Calculate correctness percentage\n",
        "correct_predictions = (comparison_df[\"Actual Label\"] == comparison_df[\"Predicted Label\"]).sum()\n",
        "total_predictions = len(comparison_df)\n",
        "accuracy = (correct_predictions / total_predictions) * 100\n",
        "\n",
        "# Display first 100 comparisons and accuracy\n",
        "print(comparison_df.head(30))  # Show first 100 results\n",
        "print(f\"\\nPrediction Accuracy: {accuracy:.2f}%\")\n",
        "\n",
        "conf_matrix = confusion_matrix(y_test, y_pred)\n",
        "report = classification_report(y_test, y_pred)\n",
        "\n",
        "print(\"Classification Report for the test sample tested by model:\")\n",
        "print(report)\n",
        "\n",
        "# Plot confusion matrix\n",
        "plt.figure(figsize=(6, 5))\n",
        "sns.heatmap(conf_matrix, annot=True, fmt='d', cmap='Blues', xticklabels=['BENIGN', 'MALICIOUS'], yticklabels=['BENIGN', 'MALICIOUS'])\n",
        "plt.xlabel('Predicted')\n",
        "plt.ylabel('Actual')\n",
        "plt.title('Stacking Classifier Confusion Matrix')\n",
        "plt.show()\n",
        "\n",
        "\n",
        "\n",
        "\n",
        "features = pd.DataFrame(selected_features, columns=[\"Top Features\"])\n",
        "print(features)\n"
      ],
      "metadata": {
        "colab": {
          "base_uri": "https://localhost:8080/",
          "height": 1000
        },
        "id": "4Oyj3-PsWyCp",
        "outputId": "59ea129e-30a2-4d04-a3ae-69ef43bb945d"
      },
      "execution_count": null,
      "outputs": [
        {
          "output_type": "stream",
          "name": "stdout",
          "text": [
            "   Actual Label Predicted Label\n",
            "0     Malicious       Malicious\n",
            "1        Normal          Normal\n",
            "2        Normal          Normal\n",
            "3     Malicious       Malicious\n",
            "4        Normal          Normal\n",
            "5        Normal          Normal\n",
            "6        Normal          Normal\n",
            "7        Normal          Normal\n",
            "8        Normal          Normal\n",
            "9     Malicious       Malicious\n",
            "10       Normal          Normal\n",
            "11       Normal          Normal\n",
            "12       Normal          Normal\n",
            "13       Normal          Normal\n",
            "14       Normal       Malicious\n",
            "15    Malicious       Malicious\n",
            "16       Normal          Normal\n",
            "17       Normal          Normal\n",
            "18       Normal          Normal\n",
            "19       Normal          Normal\n",
            "20       Normal          Normal\n",
            "21       Normal          Normal\n",
            "22    Malicious       Malicious\n",
            "23       Normal          Normal\n",
            "24       Normal          Normal\n",
            "25       Normal          Normal\n",
            "26       Normal       Malicious\n",
            "27       Normal          Normal\n",
            "28       Normal          Normal\n",
            "29    Malicious          Normal\n",
            "\n",
            "Prediction Accuracy: 93.20%\n",
            "Classification Report for the test sample tested by model:\n",
            "              precision    recall  f1-score   support\n",
            "\n",
            "           0       0.72      0.80      0.76       437\n",
            "           1       0.75      0.67      0.71       403\n",
            "\n",
            "    accuracy                           0.74       840\n",
            "   macro avg       0.74      0.73      0.73       840\n",
            "weighted avg       0.74      0.74      0.73       840\n",
            "\n"
          ]
        },
        {
          "output_type": "display_data",
          "data": {
            "text/plain": [
              "<Figure size 600x500 with 2 Axes>"
            ],
            "image/png": "[encoded data removed]"
          },
          "metadata": {}
        },
        {
          "output_type": "stream",
          "name": "stdout",
          "text": [
            "                   Top Features\n",
            "0         Bwd Packet Length Std\n",
            "1         Fwd Packet Length Min\n",
            "2        Fwd Packet Length Mean\n",
            "3                Flow Packets/s\n",
            "4        Total Backward Packets\n",
            "5             Total Fwd Packets\n",
            "6         Fwd Packet Length Std\n",
            "7         Bwd Packet Length Max\n",
            "8   Total Length of Bwd Packets\n",
            "9        Bwd Packet Length Mean\n",
            "10        Fwd Packet Length Max\n",
            "11  Total Length of Fwd Packets\n",
            "12                Down/Up Ratio\n",
            "13                 Flow Bytes/s\n",
            "14        Bwd Packet Length Min\n",
            "15                Flow Duration\n"
          ]
        }
      ]
    }
  ]
}